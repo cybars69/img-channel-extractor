{
 "cells": [
  {
   "cell_type": "code",
   "execution_count": 11,
   "id": "above-packaging",
   "metadata": {},
   "outputs": [],
   "source": [
    "from PIL import Image\n",
    "import numpy as np"
   ]
  },
  {
   "cell_type": "code",
   "execution_count": 12,
   "id": "mathematical-bishop",
   "metadata": {},
   "outputs": [],
   "source": [
    "def extractColors(file_, ch):\n",
    "    im = Image.open(file_)\n",
    "    img_ = im.load()\n",
    "    img_mat = np.array(im)\n",
    "\n",
    "    size_ = img_mat.shape[0]\n",
    "\n",
    "    if(ch == 2):\n",
    "        channels = ['__r_.', '__g_.', '__b_.', '__rg_.', '__gb_.', '__rb_.']\n",
    "        values = [[1, 0, 0], [0, 1, 0], [0, 0, 1],\n",
    "                  [1, 1, 0], [0, 1, 1], [1, 0, 1]]\n",
    "    elif(ch == 1):\n",
    "        channels = ['__r_.', '__g_.', '__b_.']\n",
    "        values = [[1, 0, 0], [0, 1, 0], [0, 0, 1]]\n",
    "\n",
    "    for (channel, value) in zip(channels, values):\n",
    "        success_ = 0\n",
    "        new_i = []\n",
    "        name = channel[2]\n",
    "\n",
    "        for row_ in img_mat:\n",
    "            row_new = []\n",
    "            for pix_ in row_:\n",
    "                dotCol = [pix_[0]*value[0], pix_[1]*value[1], pix_[2]*value[2]]\n",
    "                row_new.append(dotCol)\n",
    "            new_i.append(row_new)\n",
    "            success_ += 1\n",
    "            print('\\r Completed : ', name, str(\n",
    "                round(success_*100/size_, 2))+'%  ', end='')\n",
    "        new_i = np.array(new_i)\n",
    "\n",
    "        img_x = Image.fromarray(new_i.astype(np.uint8))\n",
    "\n",
    "        fileX = file_.rsplit('.', 1)\n",
    "        fileX.insert(1, channel)\n",
    "        fileX = ''.join(fileX)\n",
    "        print('Created', fileX, '   ----------   Saving Now')\n",
    "        print('\\n')\n",
    "        img_x.save(fileX)"
   ]
  },
  {
   "cell_type": "code",
   "execution_count": 14,
   "id": "related-processor",
   "metadata": {},
   "outputs": [
    {
     "name": "stdout",
     "output_type": "stream",
     "text": [
      " Completed :  r 100.0%  Created bg__r_.png    ----------   Saving Now\n",
      "\n",
      "\n",
      " Completed :  g 100.0%   39.2%  Created bg__g_.png    ----------   Saving Now\n",
      "\n",
      "\n",
      " Completed :  b 100.0%  Created bg__b_.png    ----------   Saving Now\n",
      "\n",
      "\n"
     ]
    },
    {
     "data": {
      "text/plain": [
       "1.8874452114105225"
      ]
     },
     "execution_count": 14,
     "metadata": {},
     "output_type": "execute_result"
    }
   ],
   "source": [
    "extractColors('bg.png',1)"
   ]
  }
 ],
 "metadata": {
  "kernelspec": {
   "display_name": "Python 3",
   "language": "python",
   "name": "python3"
  },
  "language_info": {
   "codemirror_mode": {
    "name": "ipython",
    "version": 3
   },
   "file_extension": ".py",
   "mimetype": "text/x-python",
   "name": "python",
   "nbconvert_exporter": "python",
   "pygments_lexer": "ipython3",
   "version": "3.8.5"
  }
 },
 "nbformat": 4,
 "nbformat_minor": 5
}
